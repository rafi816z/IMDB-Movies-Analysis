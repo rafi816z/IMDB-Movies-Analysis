{
 "cells": [
  {
   "cell_type": "code",
   "execution_count": 2,
   "id": "7aed4046-a5ab-4c39-9f0a-81b1e9dffe96",
   "metadata": {},
   "outputs": [],
   "source": [
    "#importing library like numpy, pandas\n",
    "import numpy as np\n",
    "import pandas as pd\n",
    "#importing dataset\n",
    "df=pd.read_csv(\"C:/Users/Rafi/Downloads/IMDB_Movies.csv\")"
   ]
  },
  {
   "cell_type": "code",
   "execution_count": 5,
   "id": "6106e032-952e-48ec-8bad-5077834c588f",
   "metadata": {},
   "outputs": [
    {
     "name": "stdout",
     "output_type": "stream",
     "text": [
      "      color      director_name  num_critic_for_reviews  duration  \\\n",
      "0     Color      James Cameron                   723.0     178.0   \n",
      "1     Color     Gore Verbinski                   302.0     169.0   \n",
      "2     Color         Sam Mendes                   602.0     148.0   \n",
      "3     Color  Christopher Nolan                   813.0     164.0   \n",
      "4       NaN        Doug Walker                     NaN       NaN   \n",
      "...     ...                ...                     ...       ...   \n",
      "5038  Color        Scott Smith                     1.0      87.0   \n",
      "5039  Color                NaN                    43.0      43.0   \n",
      "5040  Color   Benjamin Roberds                    13.0      76.0   \n",
      "5041  Color        Daniel Hsia                    14.0     100.0   \n",
      "5042  Color           Jon Gunn                    43.0      90.0   \n",
      "\n",
      "      director_facebook_likes  actor_3_facebook_likes      actor_2_name  \\\n",
      "0                         0.0                   855.0  Joel David Moore   \n",
      "1                       563.0                  1000.0     Orlando Bloom   \n",
      "2                         0.0                   161.0      Rory Kinnear   \n",
      "3                     22000.0                 23000.0    Christian Bale   \n",
      "4                       131.0                     NaN        Rob Walker   \n",
      "...                       ...                     ...               ...   \n",
      "5038                      2.0                   318.0     Daphne Zuniga   \n",
      "5039                      NaN                   319.0     Valorie Curry   \n",
      "5040                      0.0                     0.0     Maxwell Moody   \n",
      "5041                      0.0                   489.0     Daniel Henney   \n",
      "5042                     16.0                    16.0  Brian Herzlinger   \n",
      "\n",
      "      actor_1_facebook_likes        gross                           genres  \\\n",
      "0                     1000.0  760505847.0  Action|Adventure|Fantasy|Sci-Fi   \n",
      "1                    40000.0  309404152.0         Action|Adventure|Fantasy   \n",
      "2                    11000.0  200074175.0        Action|Adventure|Thriller   \n",
      "3                    27000.0  448130642.0                  Action|Thriller   \n",
      "4                      131.0          NaN                      Documentary   \n",
      "...                      ...          ...                              ...   \n",
      "5038                   637.0          NaN                     Comedy|Drama   \n",
      "5039                   841.0          NaN     Crime|Drama|Mystery|Thriller   \n",
      "5040                     0.0          NaN            Drama|Horror|Thriller   \n",
      "5041                   946.0      10443.0             Comedy|Drama|Romance   \n",
      "5042                    86.0      85222.0                      Documentary   \n",
      "\n",
      "      ... num_user_for_reviews language  country  content_rating       budget  \\\n",
      "0     ...                 3054  English      USA           PG-13  237000000.0   \n",
      "1     ...                 1238  English      USA           PG-13  300000000.0   \n",
      "2     ...                  994  English       UK           PG-13  245000000.0   \n",
      "3     ...                 2701  English      USA           PG-13  250000000.0   \n",
      "4     ...                           NaN      NaN             NaN          NaN   \n",
      "...   ...                  ...      ...      ...             ...          ...   \n",
      "5038  ...                    6  English   Canada             NaN          NaN   \n",
      "5039  ...                  359  English      USA           TV-14          NaN   \n",
      "5040  ...                    3  English      USA             NaN       1400.0   \n",
      "5041  ...                    9  English      USA           PG-13          NaN   \n",
      "5042  ...                   84  English      USA              PG       1100.0   \n",
      "\n",
      "      title_year actor_2_facebook_likes imdb_score aspect_ratio  \\\n",
      "0         2009.0                  936.0        7.9         1.78   \n",
      "1         2007.0                 5000.0        7.1         2.35   \n",
      "2         2015.0                  393.0        6.8         2.35   \n",
      "3         2012.0                23000.0        8.5         2.35   \n",
      "4            NaN                   12.0        7.1          NaN   \n",
      "...          ...                    ...        ...          ...   \n",
      "5038      2013.0                  470.0        7.7          NaN   \n",
      "5039         NaN                  593.0        7.5        16.00   \n",
      "5040      2013.0                    0.0        6.3          NaN   \n",
      "5041      2012.0                  719.0        6.3         2.35   \n",
      "5042      2004.0                   23.0        6.6         1.85   \n",
      "\n",
      "     movie_facebook_likes  \n",
      "0                   33000  \n",
      "1                       0  \n",
      "2                   85000  \n",
      "3                  164000  \n",
      "4                       0  \n",
      "...                   ...  \n",
      "5038                   84  \n",
      "5039                32000  \n",
      "5040                   16  \n",
      "5041                  660  \n",
      "5042                  456  \n",
      "\n",
      "[5043 rows x 28 columns]\n"
     ]
    }
   ],
   "source": [
    "print(df)"
   ]
  },
  {
   "cell_type": "code",
   "execution_count": 3,
   "id": "b0a7a86b-4425-426f-b6b4-f446ddf40561",
   "metadata": {},
   "outputs": [
    {
     "name": "stdout",
     "output_type": "stream",
     "text": [
      "(5043, 28)\n",
      "<class 'pandas.core.frame.DataFrame'>\n",
      "RangeIndex: 5043 entries, 0 to 5042\n",
      "Data columns (total 28 columns):\n",
      " #   Column                     Non-Null Count  Dtype  \n",
      "---  ------                     --------------  -----  \n",
      " 0   color                      5024 non-null   object \n",
      " 1   director_name              4939 non-null   object \n",
      " 2   num_critic_for_reviews     4993 non-null   float64\n",
      " 3   duration                   5028 non-null   float64\n",
      " 4   director_facebook_likes    4939 non-null   float64\n",
      " 5   actor_3_facebook_likes     5020 non-null   float64\n",
      " 6   actor_2_name               5030 non-null   object \n",
      " 7   actor_1_facebook_likes     5036 non-null   float64\n",
      " 8   gross                      4159 non-null   float64\n",
      " 9   genres                     5043 non-null   object \n",
      " 10  actor_1_name               5036 non-null   object \n",
      " 11  movie_title                5043 non-null   object \n",
      " 12  num_voted_users            5043 non-null   int64  \n",
      " 13  cast_total_facebook_likes  5043 non-null   int64  \n",
      " 14  actor_3_name               5020 non-null   object \n",
      " 15  facenumber_in_poster       5030 non-null   float64\n",
      " 16  plot_keywords              4890 non-null   object \n",
      " 17  movie_imdb_link            5043 non-null   object \n",
      " 18  num_user_for_reviews       5023 non-null   object \n",
      " 19  language                   5029 non-null   object \n",
      " 20  country                    5038 non-null   object \n",
      " 21  content_rating             4740 non-null   object \n",
      " 22  budget                     4551 non-null   float64\n",
      " 23  title_year                 4935 non-null   float64\n",
      " 24  actor_2_facebook_likes     5030 non-null   float64\n",
      " 25  imdb_score                 5043 non-null   float64\n",
      " 26  aspect_ratio               4714 non-null   float64\n",
      " 27  movie_facebook_likes       5043 non-null   int64  \n",
      "dtypes: float64(12), int64(3), object(13)\n",
      "memory usage: 1.1+ MB\n",
      "None\n"
     ]
    }
   ],
   "source": [
    "#to check no. of rows and no. of columns\n",
    "print(np.shape(df))\n",
    "#to view info\n",
    "print(df.info(\"max_counts\"))"
   ]
  },
  {
   "cell_type": "code",
   "execution_count": 7,
   "id": "6fc6ead9-20a4-4f68-8c58-0ae6892eb489",
   "metadata": {},
   "outputs": [
    {
     "name": "stdout",
     "output_type": "stream",
     "text": [
      "color                         19\n",
      "director_name                104\n",
      "num_critic_for_reviews        50\n",
      "duration                      15\n",
      "director_facebook_likes      104\n",
      "actor_3_facebook_likes        23\n",
      "actor_2_name                  13\n",
      "actor_1_facebook_likes         7\n",
      "gross                        884\n",
      "genres                         0\n",
      "actor_1_name                   7\n",
      "movie_title                    0\n",
      "num_voted_users                0\n",
      "cast_total_facebook_likes      0\n",
      "actor_3_name                  23\n",
      "facenumber_in_poster          13\n",
      "plot_keywords                153\n",
      "movie_imdb_link                0\n",
      "num_user_for_reviews          20\n",
      "language                      14\n",
      "country                        5\n",
      "content_rating               303\n",
      "budget                       492\n",
      "title_year                   108\n",
      "actor_2_facebook_likes        13\n",
      "imdb_score                     0\n",
      "aspect_ratio                 329\n",
      "movie_facebook_likes           0\n",
      "dtype: int64\n"
     ]
    }
   ],
   "source": [
    "#to find total no. of null values in each columns\n",
    "print(df.isnull().sum())"
   ]
  },
  {
   "cell_type": "code",
   "execution_count": 8,
   "id": "276f21d3-b31b-43b2-b388-48d988e22970",
   "metadata": {},
   "outputs": [
    {
     "name": "stdout",
     "output_type": "stream",
     "text": [
      "(90, 28)\n"
     ]
    }
   ],
   "source": [
    "#to check no. of duplicate rows\n",
    "duplicate_rows=df[df.duplicated(keep=False)]\n",
    "print(np.shape(duplicate_rows))"
   ]
  },
  {
   "cell_type": "code",
   "execution_count": 9,
   "id": "c61e2466-9e98-46a7-b30e-8e20998c49b3",
   "metadata": {},
   "outputs": [
    {
     "name": "stdout",
     "output_type": "stream",
     "text": [
      "(4998, 28)\n"
     ]
    }
   ],
   "source": [
    "#deleting duplicate rows\n",
    "df1=df.drop_duplicates()\n",
    "#no. of rows and no. of columns after removing duplicates\n",
    "print(np.shape(df1))"
   ]
  },
  {
   "cell_type": "code",
   "execution_count": 10,
   "id": "6bd120f5-57c6-4009-b2e1-d128126c52f3",
   "metadata": {},
   "outputs": [
    {
     "name": "stdout",
     "output_type": "stream",
     "text": [
      "(4882, 28)\n"
     ]
    }
   ],
   "source": [
    "#deleting rows in which director_name and language is not mention\n",
    "df2=df1.dropna(subset=['director_name','language'])\n",
    "#no. of rows and no. of columns after removing above rows\n",
    "print(np.shape(df2))"
   ]
  },
  {
   "cell_type": "code",
   "execution_count": 11,
   "id": "d82fa23a-cf04-46cf-94ad-a9e6c5dd06b2",
   "metadata": {},
   "outputs": [
    {
     "name": "stdout",
     "output_type": "stream",
     "text": [
      "(4882, 8)\n"
     ]
    }
   ],
   "source": [
    "#removing unwanted columns because of their no use\n",
    "df2=df2.drop(['color','num_critic_for_reviews','director_facebook_likes','actor_3_facebook_likes','actor_2_name',\n",
    "              'actor_1_facebook_likes','actor_1_name','num_voted_users','cast_total_facebook_likes','actor_3_name',\n",
    "              'facenumber_in_poster','plot_keywords','movie_imdb_link','num_user_for_reviews','country','content_rating',\n",
    "              'title_year','actor_2_facebook_likes','aspect_ratio','movie_facebook_likes',], axis=1)\n",
    "#no. of rows and no. of columns after removing above columns\n",
    "print(np.shape(df2))"
   ]
  },
  {
   "cell_type": "code",
   "execution_count": 12,
   "id": "8b067740-3a86-49a7-b3f2-541472420ae9",
   "metadata": {},
   "outputs": [
    {
     "name": "stdout",
     "output_type": "stream",
     "text": [
      "director_name      0\n",
      "duration          12\n",
      "gross            765\n",
      "genres             0\n",
      "movie_title        0\n",
      "language           0\n",
      "budget           390\n",
      "imdb_score         0\n",
      "dtype: int64\n"
     ]
    }
   ],
   "source": [
    "#now checking no. of null values of each columns\n",
    "print(df2.isnull().sum())"
   ]
  },
  {
   "cell_type": "code",
   "execution_count": null,
   "id": "ce1dd258-6433-4263-b024-4ab5a1d4cb5d",
   "metadata": {},
   "outputs": [],
   "source": [
    "#saving modified dataset df2 as NEW_IMDB_Movies.xlsx\n",
    "df2.to_excel(\"C:/Users/Rafi/Downloads/NEW_IMDB_Movies.xlsx\", index=False)"
   ]
  }
 ],
 "metadata": {
  "kernelspec": {
   "display_name": "Python 3 (ipykernel)",
   "language": "python",
   "name": "python3"
  },
  "language_info": {
   "codemirror_mode": {
    "name": "ipython",
    "version": 3
   },
   "file_extension": ".py",
   "mimetype": "text/x-python",
   "name": "python",
   "nbconvert_exporter": "python",
   "pygments_lexer": "ipython3",
   "version": "3.13.2"
  }
 },
 "nbformat": 4,
 "nbformat_minor": 5
}
